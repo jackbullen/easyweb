{
 "cells": [
  {
   "cell_type": "code",
   "execution_count": null,
   "metadata": {},
   "outputs": [],
   "source": [
    "import pandas as pd\n",
    "df = pd.read_csv('transactions.csv', header=None, names=['date', 'purchase', 'credit','debit','balance'])"
   ]
  },
  {
   "cell_type": "code",
   "execution_count": null,
   "metadata": {},
   "outputs": [],
   "source": [
    "df['date'] = pd.to_datetime(df['date'])\n",
    "df[['credit', 'debit']] = df[['credit', 'debit']].fillna(0)"
   ]
  },
  {
   "cell_type": "code",
   "execution_count": null,
   "metadata": {},
   "outputs": [],
   "source": [
    "num_unique_purchases = df['purchase'].nunique()\n",
    "print(f\"Number of unique purchases: {num_unique_purchases}\")"
   ]
  },
  {
   "cell_type": "code",
   "execution_count": null,
   "metadata": {},
   "outputs": [],
   "source": [
    "\n",
    "most_frequent_purchases = df['purchase'].value_counts().head(10)\n",
    "print(\"\\nMost frequent purchases:\")\n",
    "print(most_frequent_purchases)"
   ]
  },
  {
   "cell_type": "code",
   "execution_count": null,
   "metadata": {},
   "outputs": [],
   "source": [
    "total_spent_each_purchase = df.groupby('purchase')['credit'].sum().sort_values(ascending=False).head(20)\n",
    "print(\"\\nTotal amount spent on each purchase:\")\n",
    "print(total_spent_each_purchase)"
   ]
  },
  {
   "cell_type": "code",
   "execution_count": null,
   "metadata": {},
   "outputs": [],
   "source": [
    "total_spent_each_day = df.groupby('date')['credit'].sum().sort_values(ascending=False).head(10)\n",
    "print(\"\\nTotal amount spent on each day:\")\n",
    "print(total_spent_each_day)"
   ]
  },
  {
   "cell_type": "code",
   "execution_count": null,
   "metadata": {},
   "outputs": [],
   "source": [
    "day_most_spent = df.groupby('date')['credit'].sum().idxmax()\n",
    "\n",
    "df[df['date'] == day_most_spent].sort_values(by='debit', ascending=False).head(10)"
   ]
  },
  {
   "cell_type": "code",
   "execution_count": null,
   "metadata": {},
   "outputs": [],
   "source": []
  }
 ],
 "metadata": {
  "kernelspec": {
   "display_name": "Python 3",
   "language": "python",
   "name": "python3"
  },
  "language_info": {
   "codemirror_mode": {
    "name": "ipython",
    "version": 3
   },
   "file_extension": ".py",
   "mimetype": "text/x-python",
   "name": "python",
   "nbconvert_exporter": "python",
   "pygments_lexer": "ipython3",
   "version": "3.12.3"
  }
 },
 "nbformat": 4,
 "nbformat_minor": 2
}
